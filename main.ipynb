{
 "cells": [
  {
   "cell_type": "code",
   "execution_count": null,
   "metadata": {},
   "outputs": [],
   "source": []
  },
  {
   "cell_type": "code",
   "execution_count": 185,
   "metadata": {},
   "outputs": [],
   "source": [
    "from pyspark.sql import SparkSession\n",
    "\n",
    "\"\"\"make an instance of a SparkSession called 'spark'.\"\"\"\n",
    "spark = SparkSession.builder.master('local').getOrCreate()\n"
   ]
  },
  {
   "cell_type": "code",
   "execution_count": 186,
   "metadata": {},
   "outputs": [],
   "source": [
    "import os\n",
    "from pyspark.sql.types import LongType, StringType, StructField, StructType, BooleanType, ArrayType, IntegerType\n",
    "\n",
    "# custom_schema = StructType([\n",
    "#     StructField('index', IntegerType()),\n",
    "#     StructField('artist_popularity', LongType()),\n",
    "#     StructField('followers', LongType()),\n",
    "#     StructField('genres', StringType()),\n",
    "#     StructField('id', StringType()),\n",
    "#     StructField('name', StringType()),\n",
    "#     StructField('track_id', StringType()),\n",
    "#     StructField('track_name_prev', StringType()),\n",
    "#     StructField('type', StringType())])\n",
    "# Read the Spotify artists CSV file into a Spark DataFrame\n",
    "spark_df = (spark.read.format(\"csv\"\n",
    "                        ).options(header=\"true\"\n",
    "                        ).schema(\"index int, artist_popularity int, followers int, genres string, id string, name string, track_id string, track_name_prev string, type string\"\n",
    "                        ).load(\"data/spotify_artists.csv\"))\n"
   ]
  },
  {
   "cell_type": "code",
   "execution_count": 187,
   "metadata": {},
   "outputs": [
    {
     "data": {
      "text/plain": [
       "['index',\n",
       " 'artist_popularity',\n",
       " 'followers',\n",
       " 'genres',\n",
       " 'id',\n",
       " 'name',\n",
       " 'track_id',\n",
       " 'track_name_prev',\n",
       " 'type']"
      ]
     },
     "execution_count": 187,
     "metadata": {},
     "output_type": "execute_result"
    }
   ],
   "source": [
    "\n",
    "spark_df.withColumnRenamed('', 'index').columns\n",
    "\n"
   ]
  },
  {
   "cell_type": "code",
   "execution_count": 188,
   "metadata": {},
   "outputs": [
    {
     "data": {
      "text/plain": [
       "<bound method DataFrame.describe of DataFrame[index: int, artist_popularity: int, followers: int, genres: string, id: string, name: string, track_id: string, track_name_prev: string, type: string]>"
      ]
     },
     "execution_count": 188,
     "metadata": {},
     "output_type": "execute_result"
    }
   ],
   "source": [
    "\"\"\"Profile the Data:\"\"\"\n",
    "# Show a description (summary) of the Spark DataFrame.\n",
    "spark_df.describe\n"
   ]
  },
  {
   "cell_type": "code",
   "execution_count": 189,
   "metadata": {},
   "outputs": [
    {
     "name": "stdout",
     "output_type": "stream",
     "text": [
      "root\n",
      " |-- index: integer (nullable = true)\n",
      " |-- artist_popularity: integer (nullable = true)\n",
      " |-- followers: integer (nullable = true)\n",
      " |-- genres: string (nullable = true)\n",
      " |-- id: string (nullable = true)\n",
      " |-- name: string (nullable = true)\n",
      " |-- track_id: string (nullable = true)\n",
      " |-- track_name_prev: string (nullable = true)\n",
      " |-- type: string (nullable = true)\n",
      "\n"
     ]
    }
   ],
   "source": [
    "# Print the schema of the DataFrame.\n",
    "spark_df.printSchema()"
   ]
  },
  {
   "cell_type": "code",
   "execution_count": 190,
   "metadata": {},
   "outputs": [
    {
     "name": "stdout",
     "output_type": "stream",
     "text": [
      "+--------------------+--------------------+\n",
      "|                name|              genres|\n",
      "+--------------------+--------------------+\n",
      "|       Juliano Cezar|['sertanejo', 'se...|\n",
      "|      The Grenadines|                  []|\n",
      "|             Gangway| ['danish pop rock']|\n",
      "|               FADES|['uk alternative ...|\n",
      "| Jean-Pierre Guignon|  ['french baroque']|\n",
      "|              Filhos|                  []|\n",
      "|                Eloq|                  []|\n",
      "|              Fravær|                  []|\n",
      "|       Camille Pépin|                  []|\n",
      "|Pepe Willberg & T...|['classic finnish...|\n",
      "+--------------------+--------------------+\n",
      "only showing top 10 rows\n",
      "\n"
     ]
    }
   ],
   "source": [
    "# Select and show just the first 10 values in the 'name' and 'genres' columns.\n",
    "spark_df.select('name', 'genres').show(10)\n"
   ]
  },
  {
   "cell_type": "code",
   "execution_count": 191,
   "metadata": {},
   "outputs": [
    {
     "name": "stdout",
     "output_type": "stream",
     "text": [
      "+--------------------+--------------------+\n",
      "|                name|              genres|\n",
      "+--------------------+--------------------+\n",
      "|       Juliano Cezar|['sertanejo', 'se...|\n",
      "|      The Grenadines|  ['elevator music']|\n",
      "|             Gangway| ['danish pop rock']|\n",
      "|               FADES|['uk alternative ...|\n",
      "| Jean-Pierre Guignon|  ['french baroque']|\n",
      "|              Filhos|  ['elevator music']|\n",
      "|                Eloq|  ['elevator music']|\n",
      "|              Fravær|  ['elevator music']|\n",
      "|       Camille Pépin|  ['elevator music']|\n",
      "|Pepe Willberg & T...|['classic finnish...|\n",
      "+--------------------+--------------------+\n",
      "only showing top 10 rows\n",
      "\n"
     ]
    }
   ],
   "source": [
    "from pyspark.sql.functions import regexp_replace\n",
    "# Where the genre is an empty list, replace it with ['elevator music'].\n",
    "spark_df = spark_df.withColumn('genres', regexp_replace(\n",
    "    'genres', r\"\\[\\]\", \"['elevator music']\"))\n",
    "spark_df.select('name', 'genres').show(10)\n"
   ]
  },
  {
   "cell_type": "code",
   "execution_count": 192,
   "metadata": {},
   "outputs": [
    {
     "data": {
      "text/plain": [
       "DataFrame[index: int, artist_popularity: int, followers: int, genres: string, id: string, name: string, track_id: string, track_name_prev: string, type: string]"
      ]
     },
     "execution_count": 192,
     "metadata": {},
     "output_type": "execute_result"
    }
   ],
   "source": [
    "from pyspark.sql.functions import col\n",
    "\"\"\"For the columns 'artist_popularity' and 'followers', cast the data type as integers.\"\"\"\n",
    "# done in the schema, but ill throw in the code, so you know i know it\n",
    "spark_df.withColumn('artist_popularity', col(\n",
    "                    'artist_popularity').cast(IntegerType()))\n",
    "spark_df.withColumn('followers', col(\n",
    "                    'followers').cast(IntegerType()))\n",
    "\n"
   ]
  },
  {
   "cell_type": "code",
   "execution_count": 193,
   "metadata": {},
   "outputs": [
    {
     "name": "stdout",
     "output_type": "stream",
     "text": [
      "+-----+-----------------+---------+--------------------+--------------------+-------------+--------------------+---------------+------+\n",
      "|index|artist_popularity|followers|              genres|                  id|         name|            track_id|track_name_prev|  type|\n",
      "+-----+-----------------+---------+--------------------+--------------------+-------------+--------------------+---------------+------+\n",
      "|55251|               92| 41561693|   ['pop', 'uk pop']|6eUKZXaKkcviH0Ku9...|   Ed Sheeran|7qiZfU4dY1lWllzX7...|       track_35|artist|\n",
      "|53392|               98| 34680740|['canadian hip ho...|3TVXtAsR1Inumwj47...|        Drake|116H0KvKr2Zl4RPuV...|       track_71|artist|\n",
      "|52620|               90| 30560149|['dance pop', 'po...|5pKCCKE2ajJHZ9KAi...|      Rihanna|2Ce5IyMlVRVvN997Z...|       track_38|artist|\n",
      "|54447|               88| 26824224|['canadian pop', ...|1uNFoZAHBGtllmzzn...|Justin Bieber|3A7qX2QjDlPnazUsR...|        track_2|artist|\n",
      "|42872|              100| 26309771|['dance pop', 'po...|66CXWjxzNUsdJxJ2J...|Ariana Grande|1w1kzejjmiMhdWAOe...|       track_28|artist|\n",
      "+-----+-----------------+---------+--------------------+--------------------+-------------+--------------------+---------------+------+\n",
      "only showing top 5 rows\n",
      "\n"
     ]
    }
   ],
   "source": [
    "# Sort the data in descending order by number of followers.\n",
    "spark_df.select('*').sort('followers', ascending=False).show(5)\n"
   ]
  },
  {
   "cell_type": "code",
   "execution_count": 194,
   "metadata": {},
   "outputs": [
    {
     "name": "stdout",
     "output_type": "stream",
     "text": [
      "+-----+------------------+---------+--------------------+--------------------+--------------------+--------------------+---------------+------+\n",
      "|index|popularity_percent|followers|              genres|                  id|                name|            track_id|track_name_prev|  type|\n",
      "+-----+------------------+---------+--------------------+--------------------+--------------------+--------------------+---------------+------+\n",
      "| 1138|               0.0|        0|  ['elevator music']|1sJQSEWn0wfjJ7DMx...|         Arjan Bajwa|4rSmmC6OYmjVOYxr8...|        track_5|artist|\n",
      "| 1929|               0.0|       41|  ['elevator music']|44jSS4FbhkbDPdef7...|           Ultracode|5Aq60ju4bZPmyFNfZ...|        track_6|artist|\n",
      "| 1728|               0.0|       62|['colombian black...|7eKrWT1MKG26WndNo...|   Vobiscum Lucipher|2T7MWgu0Oo2KpVPsk...|       track_26|artist|\n",
      "| 1717|               0.0|        2|  ['elevator music']|6TgWMXdgudjAaxY5O...|         Sasha Banks|15RGTXA9B8veOavTj...|       track_15|artist|\n",
      "|   86|               0.0|        1|  ['elevator music']|5e0hjqvvs8KMGx3tE...|     KOREA TOWN ACID|7IEZ5zwgpmTDUKNGf...|       track_48|artist|\n",
      "|  431|               0.0|        4|  ['elevator music']|2e331fuGL50pTCxyC...|         Adah Sharma|69iDTIABXobqbl8zJ...|       track_30|artist|\n",
      "|   62|               0.0|        5|  ['elevator music']|6axMdK6CMrflOfVyB...|              Caelum|3n7sDYogKsK4dmQDB...|       track_95|artist|\n",
      "| 1129|               0.0|        6|  ['elevator music']|7JHiwwWwXLc9sIQpn...|         Neha Sharma|4rSmmC6OYmjVOYxr8...|        track_4|artist|\n",
      "| 1166|               0.0|        0|  ['elevator music']|2SWoOidm9lBqYlv3e...|      Sarah Thompson|665b3Nss3OQmhTUdB...|       track_61|artist|\n",
      "|  640|               0.0|        2|  ['elevator music']|0CVgNTfL93CoI4A7z...|       JaQuel Knight|6eDwBvCrbvP3Lr8Yn...|        track_1|artist|\n",
      "| 1246|               0.0|        1|  ['elevator music']|5Oqvcxu4tgaIUYQ9r...|            Lashauwn|5RwiaQntvPhiErOoG...|       track_22|artist|\n",
      "|  893|               0.0|        4|  ['elevator music']|5gPvFld7e7EBvIDyw...|Amitabh Bachchan,...|2HLFXnYIHLbfTb4Qq...|       track_20|artist|\n",
      "| 1320|               0.0|        1|  ['elevator music']|3bIYWjyzAdd0KXGfP...|          Nafisa Ali|6YycppSAeGtSvwmu8...|       track_33|artist|\n",
      "|  936|               0.0|        0|  ['elevator music']|4Q9Cclj2T52Fea7ms...|       Kay Kay Menon|6YycppSAeGtSvwmu8...|       track_35|artist|\n",
      "| 1325|               0.0|        1|  ['elevator music']|64DV1pK2Qk8hlIEOJ...|       Shilpa Shetty|6YycppSAeGtSvwmu8...|       track_34|artist|\n",
      "| 1087|               0.0|       92|  ['elevator music']|1JXI9qu7acOF3CRWM...|              Blyolk|4oFNkMYtxdN5j7jAW...|        track_4|artist|\n",
      "| 1360|               0.0|       80|  ['elevator music']|0N7oH513njwsFNrgL...|        D' ius Solis|6rd1J9yY1jqpNFZ5z...|       track_29|artist|\n",
      "|  527|               0.0|       23|  ['elevator music']|73LW41KBYXlW8y9CH...|      Woody Woodbury|4gBWEUSustPZ700Fr...|        track_4|artist|\n",
      "| 1451|               0.0|        3|  ['elevator music']|4ES0WidgXo2LN0ynZ...|        The IIconics|1FeDNqsr5IIT0VUGA...|        track_7|artist|\n",
      "|  755|               0.0|        1|  ['elevator music']|76GBqCLtNJpklhrhF...|        Chemeca Gant|2iXQ1olTIJYyil9jA...|       track_16|artist|\n",
      "+-----+------------------+---------+--------------------+--------------------+--------------------+--------------------+---------------+------+\n",
      "only showing top 20 rows\n",
      "\n"
     ]
    }
   ],
   "source": [
    "\"\"\"process to change the artist popularity to percent and rename the column\"\"\"\n",
    "from pyspark.sql.functions import udf\n",
    "\n",
    "# user defined function to divide x by 100\n",
    "pop_contest = udf(lambda x: x/100)\n",
    "# apply our udf to the column artist popularity\n",
    "spark_df = spark_df.withColumn('artist_popularity', \n",
    "                            pop_contest(spark_df['artist_popularity']))\n",
    "# Rename the column 'popularity_percent'.\n",
    "spark_df = spark_df.withColumnRenamed('artist_popularity', 'popularity_percent')\n",
    "# print the least cool kids to chow our function is working\n",
    "spark_df.select('*').sort('popularity_percent').show(20)\n"
   ]
  },
  {
   "cell_type": "code",
   "execution_count": null,
   "metadata": {},
   "outputs": [],
   "source": [
    "\"\"\"Extract Information\"\"\"\n",
    "# Show only the values in the DataFrame that have 'Queen' in the name.\n",
    "# Group the data by artist popularity, and show the count for each group.\n",
    "# Save as Parquet\n",
    "# Lastly, write the code to save the DataFrame as a Parquet file in the /data directory.\n",
    "# Your /data directory shouldn't be pushed to GitHub, so this file won't show up in the submitted repository.\n"
   ]
  },
  {
   "cell_type": "code",
   "execution_count": 196,
   "metadata": {},
   "outputs": [
    {
     "name": "stdout",
     "output_type": "stream",
     "text": [
      "+-----+------------------+---------+--------------------+--------------------+--------------------+--------------------+---------------+------+\n",
      "|index|popularity_percent|followers|              genres|                  id|                name|            track_id|track_name_prev|  type|\n",
      "+-----+------------------+---------+--------------------+--------------------+--------------------+--------------------+---------------+------+\n",
      "|   40|              0.16|      695|  ['elevator music']|4SK9OzAA0K00NVsXA...|       Queen Machine|6u3RWvO7ZIIdVci1N...|       track_56|artist|\n",
      "|  901|              0.43|    18224|           ['strut']|71WL5bNm5jPPpwpDc...|  Bob the Drag Queen|5IsdA6g8IFKGmC1xl...|        track_8|artist|\n",
      "| 1518|               0.3|     2297|           ['benga']|2FzYw9fn2ZtQ7sZma...|Muthoni Drummer Q...|4F0e4hx3bASeaqLqS...|       track_45|artist|\n",
      "| 2152|              0.22|     3244|['afropop', 'kwai...|5LFWp4p0pMURif2d7...|Mahlathini & The ...|6WbcheHRcJNMaDIkO...|       track_15|artist|\n",
      "| 4335|              0.08|       63|  ['elevator music']|3DpP9gZWRs5dXEhLL...|            Queen Ka|3AM3J6mrm5cRr7GJv...|       track_39|artist|\n",
      "| 6966|              0.15|      406|['deep disco', 'v...|2wCibR1juwlLNht9Z...|      Queen Samantha|3QDayMeDsnn2Xegzd...|       track_46|artist|\n",
      "| 8056|              0.07|        9|  ['elevator music']|3TwePrN8fhPuT29Hz...|        Ghetto Queen|66hIVciq4uVcuwzVr...|       track_36|artist|\n",
      "|11408|              0.21|      207|  ['elevator music']|2ddlG5nlorHHTqIt5...|        Beauty Queen|24WguFKVYoGQIW2GO...|       track_33|artist|\n",
      "|13701|              0.49|    57014|['alternative roc...|6iy8nrBbtL57i4eUt...|The Good, the Bad...|2TfuGRkFZGU7NcYIr...|       track_17|artist|\n",
      "|15254|              0.27|      113|     ['bongo flava']|3xhctsFSYQFa4NCA4...|       Queen Darleen|3RMzzi2R7fFTIcaE8...|       track_15|artist|\n",
      "|16176|              0.27|     2452|['dublin indie', ...|7BDvurihyagH0uSPN...|       Pillow Queens|16YwIBrPUXQ5QycoW...|       track_29|artist|\n",
      "|18766|              0.14|      560|      ['riot grrrl']|713dOrzih7UQvUmok...|       Voodoo Queens|7a6Dhd4897ZBnlkA9...|        track_7|artist|\n",
      "|20823|              0.34|     1382|['mainland chines...|3Pf6bS1cRCdiMT5XR...|          Queena Cui|4U6UC7c96gkpiCVU5...|       track_53|artist|\n",
      "|21238|              0.09|      272|  ['elevator music']|5F8oXHcyrEnqKxZ2r...| The Wrecking Queens|6T0MT2hMQ5mAeSVvc...|       track_22|artist|\n",
      "|22530|              0.34|     3915|  ['elevator music']|0R7RTNI2p2LsrILHq...|         Queen Sessi|283Q6uu0wF6Dqocyq...|       track_53|artist|\n",
      "|23923|              0.16|      149|  ['elevator music']|2e2wa17gsADrQfRvF...|           Nuz Queen|2ZGdFKxMhjoMbDZId...|       track_29|artist|\n",
      "|26417|              0.58|   269324|['album rock', 'g...|2OgUPVlWYgGBGMefZ...|         Queensrÿche|2I1erAt8UHtkXhPRl...|        track_9|artist|\n",
      "|28174|               0.7|   798509|['deep pop r&b', ...|3nViOFa3kZW8OMSNO...|         Queen Naija|3UhRsQVrELOATEiY7...|        track_4|artist|\n",
      "|31930|              0.16|       13|  ['elevator music']|46yGPqT8k2maC9Qlx...|Queensland Orchestra|4jVr1g58LMaYrfhd8...|       track_58|artist|\n",
      "|32597|              0.59|    71576|['conscious hip h...|5m7wCUhYhBh7A3A3Y...|       Queen Latifah|1ybJ2itxCxPCPkcA9...|       track_11|artist|\n",
      "+-----+------------------+---------+--------------------+--------------------+--------------------+--------------------+---------------+------+\n",
      "only showing top 20 rows\n",
      "\n"
     ]
    }
   ],
   "source": [
    "# Show only the values in the DataFrame that have 'Queen' in the name.\n",
    "spark_df.select('*').filter(spark_df.name.contains('Queen')).show()"
   ]
  }
 ],
 "metadata": {
  "kernelspec": {
   "display_name": "Python 3.7.13 ('venv': venv)",
   "language": "python",
   "name": "python3"
  },
  "language_info": {
   "codemirror_mode": {
    "name": "ipython",
    "version": 3
   },
   "file_extension": ".py",
   "mimetype": "text/x-python",
   "name": "python",
   "nbconvert_exporter": "python",
   "pygments_lexer": "ipython3",
   "version": "3.7.13"
  },
  "orig_nbformat": 4,
  "vscode": {
   "interpreter": {
    "hash": "a8793d36fc6f82970c1c1d8f760fcf31a9b83e2b77c85ced74640d867ec7076d"
   }
  }
 },
 "nbformat": 4,
 "nbformat_minor": 2
}
