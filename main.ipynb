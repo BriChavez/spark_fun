{
 "cells": [
  {
   "cell_type": "code",
   "execution_count": 2,
   "metadata": {},
   "outputs": [],
   "source": [
    "# imports\n",
    "from pyspark.sql.functions import udf\n",
    "from pyspark.sql.functions import col\n",
    "from pyspark.sql.functions import regexp_replace\n",
    "from pyspark.sql.types import LongType, StringType, StructField, StructType, IntegerType\n",
    "from pyspark.sql import SparkSession\n"
   ]
  },
  {
   "cell_type": "code",
   "execution_count": 3,
   "metadata": {},
   "outputs": [
    {
     "name": "stderr",
     "output_type": "stream",
     "text": [
      "22/06/26 14:55:23 WARN Utils: Your hostname, fossa-dsa-001 resolves to a loopback address: 127.0.1.1; using 192.168.0.111 instead (on interface wlp3s0)\n",
      "22/06/26 14:55:23 WARN Utils: Set SPARK_LOCAL_IP if you need to bind to another address\n",
      "WARNING: An illegal reflective access operation has occurred\n",
      "WARNING: Illegal reflective access by org.apache.spark.unsafe.Platform (file:/home/fossa/deb/tests/spark_fun/venv/lib/python3.7/site-packages/pyspark/jars/spark-unsafe_2.12-3.1.2.jar) to constructor java.nio.DirectByteBuffer(long,int)\n",
      "WARNING: Please consider reporting this to the maintainers of org.apache.spark.unsafe.Platform\n",
      "WARNING: Use --illegal-access=warn to enable warnings of further illegal reflective access operations\n",
      "WARNING: All illegal access operations will be denied in a future release\n",
      "22/06/26 14:55:23 WARN NativeCodeLoader: Unable to load native-hadoop library for your platform... using builtin-java classes where applicable\n",
      "Using Spark's default log4j profile: org/apache/spark/log4j-defaults.properties\n",
      "Setting default log level to \"WARN\".\n",
      "To adjust logging level use sc.setLogLevel(newLevel). For SparkR, use setLogLevel(newLevel).\n",
      "22/06/26 14:55:25 WARN Utils: Service 'SparkUI' could not bind on port 4040. Attempting port 4041.\n"
     ]
    }
   ],
   "source": [
    "# make an instance of a SparkSession called 'spark'\n",
    "spark = SparkSession.builder.master('local').getOrCreate()\n"
   ]
  },
  {
   "cell_type": "code",
   "execution_count": 5,
   "metadata": {},
   "outputs": [],
   "source": [
    "# create a custom schema to ensure data types and column names\n",
    "custom_schema = StructType([\n",
    "    StructField('index', IntegerType()),\n",
    "    StructField('artist_popularity', LongType()),\n",
    "    StructField('followers', LongType()),\n",
    "    StructField('genres', StringType()),\n",
    "    StructField('id', StringType()),\n",
    "    StructField('name', StringType()),\n",
    "    StructField('track_id', StringType()),\n",
    "    StructField('track_name_prev', StringType()),\n",
    "    StructField('type', StringType())])\n"
   ]
  },
  {
   "cell_type": "code",
   "execution_count": 6,
   "metadata": {},
   "outputs": [],
   "source": [
    "\"\"\"Extract Information\"\"\"\n",
    "# create a spark dataframa from a csv with our custom schema\n",
    "spark_df = (spark.read.format(\"csv\"\n",
    "                        ).options(header=\"true\"\n",
    "                        ).schema(custom_schema\n",
    "                        ).load(\"data/spotify_artists.csv\"))\n"
   ]
  },
  {
   "cell_type": "code",
   "execution_count": 7,
   "metadata": {},
   "outputs": [
    {
     "data": {
      "text/plain": [
       "<bound method DataFrame.describe of DataFrame[index: int, artist_popularity: bigint, followers: bigint, genres: string, id: string, name: string, track_id: string, track_name_prev: string, type: string]>"
      ]
     },
     "execution_count": 7,
     "metadata": {},
     "output_type": "execute_result"
    }
   ],
   "source": [
    "# Show a description (summary) of the Spark DataFrame.\n",
    "spark_df.describe\n"
   ]
  },
  {
   "cell_type": "code",
   "execution_count": 8,
   "metadata": {},
   "outputs": [
    {
     "name": "stdout",
     "output_type": "stream",
     "text": [
      "root\n",
      " |-- index: integer (nullable = true)\n",
      " |-- artist_popularity: long (nullable = true)\n",
      " |-- followers: long (nullable = true)\n",
      " |-- genres: string (nullable = true)\n",
      " |-- id: string (nullable = true)\n",
      " |-- name: string (nullable = true)\n",
      " |-- track_id: string (nullable = true)\n",
      " |-- track_name_prev: string (nullable = true)\n",
      " |-- type: string (nullable = true)\n",
      "\n"
     ]
    }
   ],
   "source": [
    "# Print the schema of the DataFrame.\n",
    "spark_df.printSchema()\n"
   ]
  },
  {
   "cell_type": "code",
   "execution_count": 258,
   "metadata": {},
   "outputs": [
    {
     "name": "stdout",
     "output_type": "stream",
     "text": [
      "+--------------------+--------------------+\n",
      "|                name|              genres|\n",
      "+--------------------+--------------------+\n",
      "|       Juliano Cezar|['sertanejo', 'se...|\n",
      "|      The Grenadines|                  []|\n",
      "|             Gangway| ['danish pop rock']|\n",
      "|               FADES|['uk alternative ...|\n",
      "| Jean-Pierre Guignon|  ['french baroque']|\n",
      "|              Filhos|                  []|\n",
      "|                Eloq|                  []|\n",
      "|              Fravær|                  []|\n",
      "|       Camille Pépin|                  []|\n",
      "|Pepe Willberg & T...|['classic finnish...|\n",
      "+--------------------+--------------------+\n",
      "only showing top 10 rows\n",
      "\n"
     ]
    }
   ],
   "source": [
    "# Select and show just the first 10 values in the 'name' and 'genres' columns.\n",
    "spark_df.select('name', 'genres').show(10)\n"
   ]
  },
  {
   "cell_type": "code",
   "execution_count": 259,
   "metadata": {},
   "outputs": [
    {
     "name": "stdout",
     "output_type": "stream",
     "text": [
      "+--------------------+--------------------+\n",
      "|                name|              genres|\n",
      "+--------------------+--------------------+\n",
      "|       Juliano Cezar|['sertanejo', 'se...|\n",
      "|      The Grenadines|  ['elevator music']|\n",
      "|             Gangway| ['danish pop rock']|\n",
      "|               FADES|['uk alternative ...|\n",
      "| Jean-Pierre Guignon|  ['french baroque']|\n",
      "|              Filhos|  ['elevator music']|\n",
      "|                Eloq|  ['elevator music']|\n",
      "|              Fravær|  ['elevator music']|\n",
      "|       Camille Pépin|  ['elevator music']|\n",
      "|Pepe Willberg & T...|['classic finnish...|\n",
      "+--------------------+--------------------+\n",
      "only showing top 10 rows\n",
      "\n"
     ]
    }
   ],
   "source": [
    "# Where the genre is an empty list, replace it with ['elevator music'].\n",
    "spark_df = spark_df.withColumn('genres', regexp_replace(\n",
    "    'genres', r\"\\[\\]\", \"['elevator music']\"))\n",
    "spark_df.select('name', 'genres').show(10)\n"
   ]
  },
  {
   "cell_type": "code",
   "execution_count": 262,
   "metadata": {},
   "outputs": [
    {
     "name": "stdout",
     "output_type": "stream",
     "text": [
      "root\n",
      " |-- index: integer (nullable = true)\n",
      " |-- artist_popularity: integer (nullable = true)\n",
      " |-- followers: integer (nullable = true)\n",
      " |-- genres: string (nullable = true)\n",
      " |-- id: string (nullable = true)\n",
      " |-- name: string (nullable = true)\n",
      " |-- track_id: string (nullable = true)\n",
      " |-- track_name_prev: string (nullable = true)\n",
      " |-- type: string (nullable = true)\n",
      "\n"
     ]
    }
   ],
   "source": [
    "# For the columns 'artist_popularity' and 'followers', cast the data type as integers.\n",
    "# done in the schema, but ill throw in the code, so you know i know it\n",
    "spark_df = spark_df.withColumn('artist_popularity', col(\n",
    "    'artist_popularity').cast(IntegerType()))\n",
    "spark_df = spark_df.withColumn('followers', col(\n",
    "    'followers').cast(IntegerType()))\n",
    "spark_df.printSchema()\n"
   ]
  },
  {
   "cell_type": "code",
   "execution_count": 261,
   "metadata": {},
   "outputs": [
    {
     "name": "stdout",
     "output_type": "stream",
     "text": [
      "+-----+-----------------+---------+--------------------+--------------------+-------------+--------------------+---------------+------+\n",
      "|index|artist_popularity|followers|              genres|                  id|         name|            track_id|track_name_prev|  type|\n",
      "+-----+-----------------+---------+--------------------+--------------------+-------------+--------------------+---------------+------+\n",
      "|55251|               92| 41561693|   ['pop', 'uk pop']|6eUKZXaKkcviH0Ku9...|   Ed Sheeran|7qiZfU4dY1lWllzX7...|       track_35|artist|\n",
      "|53392|               98| 34680740|['canadian hip ho...|3TVXtAsR1Inumwj47...|        Drake|116H0KvKr2Zl4RPuV...|       track_71|artist|\n",
      "|52620|               90| 30560149|['dance pop', 'po...|5pKCCKE2ajJHZ9KAi...|      Rihanna|2Ce5IyMlVRVvN997Z...|       track_38|artist|\n",
      "|54447|               88| 26824224|['canadian pop', ...|1uNFoZAHBGtllmzzn...|Justin Bieber|3A7qX2QjDlPnazUsR...|        track_2|artist|\n",
      "|42872|              100| 26309771|['dance pop', 'po...|66CXWjxzNUsdJxJ2J...|Ariana Grande|1w1kzejjmiMhdWAOe...|       track_28|artist|\n",
      "|45173|               93| 25180454|['detroit hip hop...|7dGJo4pcD2V6oG8kP...|       Eminem|3OEer2dQj1eWhSqxa...|       track_49|artist|\n",
      "|56012|               90| 20226989|['dance pop', 'po...|0du5cEVh5yTK9QJze...|   Bruno Mars|0PG9fbaaHFHfre2gU...|       track_67|artist|\n",
      "|54980|               87| 18490021|['permanent wave'...|4gzpq5DPGxSnKTe4S...|     Coldplay|3AJwUDP919kvQ9Qco...|       track_31|artist|\n",
      "|55997|               89| 18008912|['dance pop', 'ed...|1Cs0zKBU1kc0i8ypK...| David Guetta|0YammaEkYSeo9vQYZ...|        track_6|artist|\n",
      "|52563|               86| 17864458|['dance pop', 'po...|6vWDO969PvNqNYHIO...|      Beyoncé|5IVuqXILoxVWvWEPm...|        track_6|artist|\n",
      "+-----+-----------------+---------+--------------------+--------------------+-------------+--------------------+---------------+------+\n",
      "only showing top 10 rows\n",
      "\n"
     ]
    }
   ],
   "source": [
    "# Sort the data in descending order by number of followers.\n",
    "spark_df.select('*').sort('followers', ascending=False).show(10)\n"
   ]
  },
  {
   "cell_type": "code",
   "execution_count": 264,
   "metadata": {},
   "outputs": [
    {
     "name": "stdout",
     "output_type": "stream",
     "text": [
      "+-----+------------------+---------+--------------------+--------------------+--------------------+--------------------+---------------+------+\n",
      "|index|popularity_percent|followers|              genres|                  id|                name|            track_id|track_name_prev|  type|\n",
      "+-----+------------------+---------+--------------------+--------------------+--------------------+--------------------+---------------+------+\n",
      "|    0|              44.0|    23230|['sertanejo', 'se...|4mGnpjhqgx4RUdsIJ...|       Juliano Cezar|0wmDmAILuW9e2aRtt...|        track_9|artist|\n",
      "|    1|              22.0|      313|  ['elevator music']|1dLnVku4VQUOLswwD...|      The Grenadines|4wqwj0gA8qPZKLl5W...|       track_30|artist|\n",
      "|    2|              26.0|     1596| ['danish pop rock']|6YVY310fjfUzKi8hi...|             Gangway|1bFqWDbvHmZe2f4Nf...|       track_38|artist|\n",
      "|    3|              31.0|      149|['uk alternative ...|2VElyouiCfoYPDJlu...|               FADES|3MFSUBAidPzRBbIS7...|       track_34|artist|\n",
      "|    4|              21.0|       11|  ['french baroque']|4agVy03qW8juSysCT...| Jean-Pierre Guignon|2r3q57FhxdsCyYr0k...|       track_26|artist|\n",
      "|    5|              43.0|       81|  ['elevator music']|38VBjthd0szbS6wpD...|              Filhos|453KeZU566kjNfs1I...|       track_15|artist|\n",
      "|    6|              34.0|     8358|  ['elevator music']|36mHwYa65L0WZbAXY...|                Eloq|6hC5Tl0S5aQCw646J...|       track_43|artist|\n",
      "|    7|               7.0|      158|  ['elevator music']|1jJyy00XfxjB4tMAv...|              Fravær|5005eeCJ9KTFAAzh2...|       track_48|artist|\n",
      "|    8|              21.0|       30|  ['elevator music']|10A8WbBJ0zW8MnvTs...|       Camille Pépin|56fBsCXwpBnxe4JkF...|       track_73|artist|\n",
      "|    9|              25.0|      992|['classic finnish...|5ijoPCUhV0dW8EJ7a...|Pepe Willberg & T...|6WVlVPoesX2zVvJzZ...|        track_8|artist|\n",
      "+-----+------------------+---------+--------------------+--------------------+--------------------+--------------------+---------------+------+\n",
      "only showing top 10 rows\n",
      "\n"
     ]
    }
   ],
   "source": [
    "\"\"\"process to change the artist popularity to percent and rename the column\"\"\"\n",
    "# user defined function to divide x by 100\n",
    "pop_contest = udf(lambda x: x/100)\n",
    "# apply our udf to the column artist popularity\n",
    "pop_contest_df = spark_df.withColumn('artist_popularity',\n",
    "                        pop_contest(spark_df['artist_popularity']))\n",
    "# Rename the column 'popularity_percent'.\n",
    "pop_contest_df = spark_df.withColumnRenamed('artist_popularity',\n",
    "                                            'popularity_percent')\n",
    "# change datatype of the percent column from a string to a float\n",
    "pop_contest_df = pop_contest_df.withColumn('popularity_percent',\n",
    "                        pop_contest_df['popularity_percent'\n",
    "                                ].cast('float'))\n",
    "pop_contest_df.show(10)\n"
   ]
  },
  {
   "cell_type": "code",
   "execution_count": 9,
   "metadata": {},
   "outputs": [
    {
     "name": "stdout",
     "output_type": "stream",
     "text": [
      "+-----+-----------------+---------+--------------------+--------------------+--------------------+--------------------+---------------+------+\n",
      "|index|artist_popularity|followers|              genres|                  id|                name|            track_id|track_name_prev|  type|\n",
      "+-----+-----------------+---------+--------------------+--------------------+--------------------+--------------------+---------------+------+\n",
      "|   40|               16|      695|                  []|4SK9OzAA0K00NVsXA...|       Queen Machine|6u3RWvO7ZIIdVci1N...|       track_56|artist|\n",
      "|  901|               43|    18224|           ['strut']|71WL5bNm5jPPpwpDc...|  Bob the Drag Queen|5IsdA6g8IFKGmC1xl...|        track_8|artist|\n",
      "| 1518|               30|     2297|           ['benga']|2FzYw9fn2ZtQ7sZma...|Muthoni Drummer Q...|4F0e4hx3bASeaqLqS...|       track_45|artist|\n",
      "| 2152|               22|     3244|['afropop', 'kwai...|5LFWp4p0pMURif2d7...|Mahlathini & The ...|6WbcheHRcJNMaDIkO...|       track_15|artist|\n",
      "| 4335|                8|       63|                  []|3DpP9gZWRs5dXEhLL...|            Queen Ka|3AM3J6mrm5cRr7GJv...|       track_39|artist|\n",
      "| 6966|               15|      406|['deep disco', 'v...|2wCibR1juwlLNht9Z...|      Queen Samantha|3QDayMeDsnn2Xegzd...|       track_46|artist|\n",
      "| 8056|                7|        9|                  []|3TwePrN8fhPuT29Hz...|        Ghetto Queen|66hIVciq4uVcuwzVr...|       track_36|artist|\n",
      "|11408|               21|      207|                  []|2ddlG5nlorHHTqIt5...|        Beauty Queen|24WguFKVYoGQIW2GO...|       track_33|artist|\n",
      "+-----+-----------------+---------+--------------------+--------------------+--------------------+--------------------+---------------+------+\n",
      "only showing top 8 rows\n",
      "\n"
     ]
    },
    {
     "name": "stderr",
     "output_type": "stream",
     "text": [
      "                                                                                \r"
     ]
    }
   ],
   "source": [
    "# Show only the values in the DataFrame that have 'Queen' in the name.\n",
    "spark_df.select('*').filter(spark_df.name.contains('Queen')).show(8)\n"
   ]
  },
  {
   "cell_type": "code",
   "execution_count": 265,
   "metadata": {},
   "outputs": [
    {
     "name": "stdout",
     "output_type": "stream",
     "text": [
      "+-----------------+----------------------+\n",
      "|artist_popularity|sum(artist_popularity)|\n",
      "+-----------------+----------------------+\n",
      "|               31|                 36053|\n",
      "|               85|                  1530|\n",
      "|               65|                 19110|\n",
      "|               53|                 37895|\n",
      "|               78|                  3822|\n",
      "|               34|                 41956|\n",
      "|               81|                  2511|\n",
      "|               28|                 30212|\n",
      "|               76|                  5092|\n",
      "|               26|                 29562|\n",
      "+-----------------+----------------------+\n",
      "only showing top 10 rows\n",
      "\n"
     ]
    }
   ],
   "source": [
    "\"\"\"Extract Information\"\"\"\n",
    "# Group the data by artist popularity, and show the count for each group.\n",
    "spark_df.groupBy('artist_popularity').sum('artist_popularity').show(10)\n"
   ]
  },
  {
   "cell_type": "code",
   "execution_count": 267,
   "metadata": {},
   "outputs": [
    {
     "name": "stderr",
     "output_type": "stream",
     "text": [
      "                                                                                \r"
     ]
    }
   ],
   "source": [
    "\"\"\"save dataframe as a parquet\"\"\"\n",
    "# write the code to save the DataFrame as a Parquet file in the /data directory.\n",
    "spark_df.write.parquet('data/spotify.parquet')\n"
   ]
  }
 ],
 "metadata": {
  "kernelspec": {
   "display_name": "Python 3.7.13 ('venv': venv)",
   "language": "python",
   "name": "python3"
  },
  "language_info": {
   "codemirror_mode": {
    "name": "ipython",
    "version": 3
   },
   "file_extension": ".py",
   "mimetype": "text/x-python",
   "name": "python",
   "nbconvert_exporter": "python",
   "pygments_lexer": "ipython3",
   "version": "3.7.13"
  },
  "orig_nbformat": 4,
  "vscode": {
   "interpreter": {
    "hash": "a8793d36fc6f82970c1c1d8f760fcf31a9b83e2b77c85ced74640d867ec7076d"
   }
  }
 },
 "nbformat": 4,
 "nbformat_minor": 2
}
