{
 "cells": [
  {
   "cell_type": "code",
   "execution_count": null,
   "metadata": {},
   "outputs": [],
   "source": []
  },
  {
   "cell_type": "code",
   "execution_count": 222,
   "metadata": {},
   "outputs": [],
   "source": [
    "from pyspark.sql import SparkSession\n",
    "\n",
    "\"\"\"make an instance of a SparkSession called 'spark'.\"\"\"\n",
    "spark = SparkSession.builder.master('local').getOrCreate()\n"
   ]
  },
  {
   "cell_type": "code",
   "execution_count": 223,
   "metadata": {},
   "outputs": [],
   "source": [
    "import os\n",
    "from pyspark.sql.types import LongType, StringType, StructField, StructType, BooleanType, ArrayType, IntegerType, FloatType\n",
    "\n",
    "# custom_schema = StructType([\n",
    "#     StructField('index', IntegerType()),\n",
    "#     StructField('artist_popularity', LongType()),\n",
    "#     StructField('followers', LongType()),\n",
    "#     StructField('genres', StringType()),\n",
    "#     StructField('id', StringType()),\n",
    "#     StructField('name', StringType()),\n",
    "#     StructField('track_id', StringType()),\n",
    "#     StructField('track_name_prev', StringType()),\n",
    "#     StructField('type', StringType())])\n",
    "# Read the Spotify artists CSV file into a Spark DataFrame\n",
    "spark_df = (spark.read.format(\"csv\"\n",
    "                        ).options(header=\"true\"\n",
    "                        ).schema(\"index int, artist_popularity int, followers int, genres string, id string, name string, track_id string, track_name_prev string, type string\"\n",
    "                        ).load(\"data/spotify_artists.csv\"))\n"
   ]
  },
  {
   "cell_type": "code",
   "execution_count": null,
   "metadata": {},
   "outputs": [],
   "source": [
    "\n",
    "spark_df.withColumnRenamed('', 'index').columns\n",
    "\n"
   ]
  },
  {
   "cell_type": "code",
   "execution_count": null,
   "metadata": {},
   "outputs": [],
   "source": [
    "\"\"\"Profile the Data:\"\"\"\n",
    "# Show a description (summary) of the Spark DataFrame.\n",
    "spark_df.describe\n"
   ]
  },
  {
   "cell_type": "code",
   "execution_count": 224,
   "metadata": {},
   "outputs": [
    {
     "name": "stdout",
     "output_type": "stream",
     "text": [
      "root\n",
      " |-- index: integer (nullable = true)\n",
      " |-- artist_popularity: integer (nullable = true)\n",
      " |-- followers: integer (nullable = true)\n",
      " |-- genres: string (nullable = true)\n",
      " |-- id: string (nullable = true)\n",
      " |-- name: string (nullable = true)\n",
      " |-- track_id: string (nullable = true)\n",
      " |-- track_name_prev: string (nullable = true)\n",
      " |-- type: string (nullable = true)\n",
      "\n"
     ]
    }
   ],
   "source": [
    "# Print the schema of the DataFrame.\n",
    "spark_df.printSchema()"
   ]
  },
  {
   "cell_type": "code",
   "execution_count": null,
   "metadata": {},
   "outputs": [],
   "source": [
    "# Select and show just the first 10 values in the 'name' and 'genres' columns.\n",
    "spark_df.select('name', 'genres').show(8)\n"
   ]
  },
  {
   "cell_type": "code",
   "execution_count": 225,
   "metadata": {},
   "outputs": [
    {
     "name": "stdout",
     "output_type": "stream",
     "text": [
      "+--------------------+--------------------+\n",
      "|                name|              genres|\n",
      "+--------------------+--------------------+\n",
      "|       Juliano Cezar|['sertanejo', 'se...|\n",
      "|      The Grenadines|  ['elevator music']|\n",
      "|             Gangway| ['danish pop rock']|\n",
      "|               FADES|['uk alternative ...|\n",
      "| Jean-Pierre Guignon|  ['french baroque']|\n",
      "|              Filhos|  ['elevator music']|\n",
      "|                Eloq|  ['elevator music']|\n",
      "|              Fravær|  ['elevator music']|\n",
      "|       Camille Pépin|  ['elevator music']|\n",
      "|Pepe Willberg & T...|['classic finnish...|\n",
      "+--------------------+--------------------+\n",
      "only showing top 10 rows\n",
      "\n"
     ]
    }
   ],
   "source": [
    "from pyspark.sql.functions import regexp_replace\n",
    "# Where the genre is an empty list, replace it with ['elevator music'].\n",
    "spark_df = spark_df.withColumn('genres', regexp_replace(\n",
    "    'genres', r\"\\[\\]\", \"['elevator music']\"))\n",
    "spark_df.select('name', 'genres').show(8)\n"
   ]
  },
  {
   "cell_type": "code",
   "execution_count": 226,
   "metadata": {},
   "outputs": [],
   "source": [
    "from pyspark.sql.functions import col\n",
    "\"\"\"For the columns 'artist_popularity' and 'followers', cast the data type as integers.\"\"\"\n",
    "# done in the schema, but ill throw in the code, so you know i know it\n",
    "spark_df = spark_df.withColumn('artist_popularity', col(\n",
    "                    'artist_popularity').cast(IntegerType()))\n",
    "spark_df = spark_df.withColumn('followers', col(\n",
    "                    'followers').cast(IntegerType()))\n",
    "\n"
   ]
  },
  {
   "cell_type": "code",
   "execution_count": null,
   "metadata": {},
   "outputs": [],
   "source": [
    "# Sort the data in descending order by number of followers.\n",
    "spark_df.select('*').sort('followers', ascending=False).show(5)\n"
   ]
  },
  {
   "cell_type": "code",
   "execution_count": 229,
   "metadata": {},
   "outputs": [
    {
     "name": "stdout",
     "output_type": "stream",
     "text": [
      "+------------------+---------+--------------------+------------------+\n",
      "|popularity_percent|followers|                name|            genres|\n",
      "+------------------+---------+--------------------+------------------+\n",
      "|                 0|        4|         Adah Sharma|['elevator music']|\n",
      "|                 0|        0|       Kay Kay Menon|['elevator music']|\n",
      "|                 0|       23|      Woody Woodbury|['elevator music']|\n",
      "|                 0|        5|              Caelum|['elevator music']|\n",
      "|                 0|        1|        Chemeca Gant|['elevator music']|\n",
      "|                 0|        8|           Tobi Tobi|['elevator music']|\n",
      "|                 0|        4|Amitabh Bachchan,...|['elevator music']|\n",
      "|                 0|       19|      Shelly Winters|['elevator music']|\n",
      "+------------------+---------+--------------------+------------------+\n",
      "only showing top 8 rows\n",
      "\n"
     ]
    }
   ],
   "source": [
    "\"\"\"process to change the artist popularity to percent and rename the column\"\"\"\n",
    "from pyspark.sql.functions import udf\n",
    "\n",
    "# user defined function to divide x by 100\n",
    "pop_contest = udf(lambda x: x/100)\n",
    "# apply our udf to the column artist popularity\n",
    "pop_contest_df = spark_df.withColumn('artist_popularity', \n",
    "                            pop_contest(spark_df['artist_popularity']))\n",
    "# Rename the column 'popularity_percent'.\n",
    "pop_contest_df = spark_df.withColumnRenamed('artist_popularity', 'popularity_percent')\n",
    "# print the least cool kids to chow our function is working\n",
    "pop_contest_df.select('popularity_percent', 'followers', 'name', 'genres').sort('popularity_percent').show(8)\n"
   ]
  },
  {
   "cell_type": "code",
   "execution_count": null,
   "metadata": {},
   "outputs": [],
   "source": [
    "\"\"\"Extract Information\"\"\"\n",
    "\n",
    "\n",
    "# Save as Parquet\n",
    "\n",
    "# Your /data directory shouldn't be pushed to GitHub, so this file won't show up in the submitted repository.\n"
   ]
  },
  {
   "cell_type": "code",
   "execution_count": null,
   "metadata": {},
   "outputs": [],
   "source": [
    "# Show only the values in the DataFrame that have 'Queen' in the name.\n",
    "spark_df.select('*').filter(spark_df.name.contains('Queen')).show(8)"
   ]
  },
  {
   "cell_type": "code",
   "execution_count": 230,
   "metadata": {},
   "outputs": [
    {
     "name": "stdout",
     "output_type": "stream",
     "text": [
      "root\n",
      " |-- index: integer (nullable = true)\n",
      " |-- artist_popularity: double (nullable = true)\n",
      " |-- followers: integer (nullable = true)\n",
      " |-- genres: string (nullable = true)\n",
      " |-- id: string (nullable = true)\n",
      " |-- name: string (nullable = true)\n",
      " |-- track_id: string (nullable = true)\n",
      " |-- track_name_prev: string (nullable = true)\n",
      " |-- type: string (nullable = true)\n",
      "\n",
      "+-----------------+----------------------+\n",
      "|artist_popularity|sum(artist_popularity)|\n",
      "+-----------------+----------------------+\n",
      "|              8.0|                4136.0|\n",
      "|             70.0|               10430.0|\n",
      "|             67.0|               14204.0|\n",
      "|              0.0|                   0.0|\n",
      "|             69.0|               10488.0|\n",
      "|              7.0|                3087.0|\n",
      "|             88.0|                 616.0|\n",
      "|             49.0|               46207.0|\n",
      "|             98.0|                  98.0|\n",
      "|             29.0|               34278.0|\n",
      "+-----------------+----------------------+\n",
      "only showing top 10 rows\n",
      "\n"
     ]
    }
   ],
   "source": [
    "# Group the data by artist popularity, and show the count for each group.\n",
    "\n",
    "\n",
    "spark_df = spark_df.withColumn('artist_popularity', spark_df[\n",
    "    'artist_popularity'].cast('double'))\n",
    "spark_df.printSchema()\n",
    "\n",
    "spark_df.groupBy('artist_popularity').sum('artist_popularity').show(8)"
   ]
  },
  {
   "cell_type": "code",
   "execution_count": 232,
   "metadata": {},
   "outputs": [
    {
     "name": "stderr",
     "output_type": "stream",
     "text": [
      "                                                                                \r"
     ]
    }
   ],
   "source": [
    "# Save as Parquet\n",
    "spark_df.write.parquet('data/spotify.parquet')\n",
    "# Lastly, write the code to save the DataFrame as a Parquet file in the /data directory.\n"
   ]
  }
 ],
 "metadata": {
  "kernelspec": {
   "display_name": "Python 3.7.13 ('venv': venv)",
   "language": "python",
   "name": "python3"
  },
  "language_info": {
   "codemirror_mode": {
    "name": "ipython",
    "version": 3
   },
   "file_extension": ".py",
   "mimetype": "text/x-python",
   "name": "python",
   "nbconvert_exporter": "python",
   "pygments_lexer": "ipython3",
   "version": "3.7.13"
  },
  "orig_nbformat": 4,
  "vscode": {
   "interpreter": {
    "hash": "a8793d36fc6f82970c1c1d8f760fcf31a9b83e2b77c85ced74640d867ec7076d"
   }
  }
 },
 "nbformat": 4,
 "nbformat_minor": 2
}
