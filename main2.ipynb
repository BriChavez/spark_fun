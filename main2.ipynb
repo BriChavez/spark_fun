{
 "cells": [
  {
   "cell_type": "code",
   "execution_count": 222,
   "metadata": {},
   "outputs": [],
   "source": [
    "from pyspark.sql import SparkSession\n",
    "\n",
    "\"\"\"make an instance of a SparkSession called 'spark'.\"\"\"\n",
    "spark = SparkSession.builder.master('local').getOrCreate()\n"
   ]
  },
  {
   "cell_type": "code",
   "execution_count": 223,
   "metadata": {},
   "outputs": [],
   "source": [
    "import os\n",
    "from pyspark.sql.types import LongType, StringType, StructField, StructType, BooleanType, ArrayType, IntegerType, FloatType\n",
    "\n",
    "# custom_schema = StructType([\n",
    "#     StructField('index', IntegerType()),\n",
    "#     StructField('artist_popularity', LongType()),\n",
    "#     StructField('followers', LongType()),\n",
    "#     StructField('genres', StringType()),\n",
    "#     StructField('id', StringType()),\n",
    "#     StructField('name', StringType()),\n",
    "#     StructField('track_id', StringType()),\n",
    "#     StructField('track_name_prev', StringType()),\n",
    "#     StructField('type', StringType())])\n",
    "# Read the Spotify artists CSV file into a Spark DataFrame\n",
    "spark_df = (spark.read.format(\"csv\"\n",
    "                        ).options(header=\"true\"\n",
    "                        ).schema(\"index int, artist_popularity int, followers int, genres string, id string, name string, track_id string, track_name_prev string, type string\"\n",
    "                        ).load(\"data/spotify_artists.csv\"))\n"
   ]
  },
  {
   "cell_type": "code",
   "execution_count": null,
   "metadata": {},
   "outputs": [],
   "source": [
    "\n",
    "spark_df.withColumnRenamed('', 'index').columns\n",
    "\n"
   ]
  },
  {
   "cell_type": "code",
   "execution_count": null,
   "metadata": {},
   "outputs": [],
   "source": [
    "\"\"\"Profile the Data:\"\"\"\n",
    "# Show a description (summary) of the Spark DataFrame.\n",
    "spark_df.describe\n"
   ]
  },
  {
   "cell_type": "code",
   "execution_count": 224,
   "metadata": {},
   "outputs": [
    {
     "name": "stdout",
     "output_type": "stream",
     "text": [
      "root\n",
      " |-- index: integer (nullable = true)\n",
      " |-- artist_popularity: integer (nullable = true)\n",
      " |-- followers: integer (nullable = true)\n",
      " |-- genres: string (nullable = true)\n",
      " |-- id: string (nullable = true)\n",
      " |-- name: string (nullable = true)\n",
      " |-- track_id: string (nullable = true)\n",
      " |-- track_name_prev: string (nullable = true)\n",
      " |-- type: string (nullable = true)\n",
      "\n"
     ]
    }
   ],
   "source": [
    "# Print the schema of the DataFrame.\n",
    "spark_df.printSchema()"
   ]
  },
  {
   "cell_type": "code",
   "execution_count": null,
   "metadata": {},
   "outputs": [],
   "source": [
    "# Select and show just the first 10 values in the 'name' and 'genres' columns.\n",
    "spark_df.select('name', 'genres').show(8)\n"
   ]
  },
  {
   "cell_type": "code",
   "execution_count": 225,
   "metadata": {},
   "outputs": [
    {
     "name": "stdout",
     "output_type": "stream",
     "text": [
      "+--------------------+--------------------+\n",
      "|                name|              genres|\n",
      "+--------------------+--------------------+\n",
      "|       Juliano Cezar|['sertanejo', 'se...|\n",
      "|      The Grenadines|  ['elevator music']|\n",
      "|             Gangway| ['danish pop rock']|\n",
      "|               FADES|['uk alternative ...|\n",
      "| Jean-Pierre Guignon|  ['french baroque']|\n",
      "|              Filhos|  ['elevator music']|\n",
      "|                Eloq|  ['elevator music']|\n",
      "|              Fravær|  ['elevator music']|\n",
      "|       Camille Pépin|  ['elevator music']|\n",
      "|Pepe Willberg & T...|['classic finnish...|\n",
      "+--------------------+--------------------+\n",
      "only showing top 10 rows\n",
      "\n"
     ]
    }
   ],
   "source": [
    "from pyspark.sql.functions import regexp_replace\n",
    "# Where the genre is an empty list, replace it with ['elevator music'].\n",
    "spark_df = spark_df.withColumn('genres', regexp_replace(\n",
    "    'genres', r\"\\[\\]\", \"['elevator music']\"))\n",
    "spark_df.select('name', 'genres').show(8)\n"
   ]
  },
  {
   "cell_type": "code",
   "execution_count": 226,
   "metadata": {},
   "outputs": [],
   "source": [
    "from pyspark.sql.functions import col\n",
    "\"\"\"For the columns 'artist_popularity' and 'followers', cast the data type as integers.\"\"\"\n",
    "# done in the schema, but ill throw in the code, so you know i know it\n",
    "spark_df = spark_df.withColumn('artist_popularity', col(\n",
    "                    'artist_popularity').cast(IntegerType()))\n",
    "spark_df = spark_df.withColumn('followers', col(\n",
    "                    'followers').cast(IntegerType()))\n",
    "\n"
   ]
  },
  {
   "cell_type": "code",
   "execution_count": 240,
   "metadata": {},
   "outputs": [
    {
     "name": "stdout",
     "output_type": "stream",
     "text": [
      "+-----+-----------------+---------+--------------------+--------------------+-------------+--------------------+---------------+------+\n",
      "|index|artist_popularity|followers|              genres|                  id|         name|            track_id|track_name_prev|  type|\n",
      "+-----+-----------------+---------+--------------------+--------------------+-------------+--------------------+---------------+------+\n",
      "|55251|               92| 41561693|   ['pop', 'uk pop']|6eUKZXaKkcviH0Ku9...|   Ed Sheeran|7qiZfU4dY1lWllzX7...|       track_35|artist|\n",
      "|53392|               98| 34680740|['canadian hip ho...|3TVXtAsR1Inumwj47...|        Drake|116H0KvKr2Zl4RPuV...|       track_71|artist|\n",
      "|52620|               90| 30560149|['dance pop', 'po...|5pKCCKE2ajJHZ9KAi...|      Rihanna|2Ce5IyMlVRVvN997Z...|       track_38|artist|\n",
      "|54447|               88| 26824224|['canadian pop', ...|1uNFoZAHBGtllmzzn...|Justin Bieber|3A7qX2QjDlPnazUsR...|        track_2|artist|\n",
      "|42872|              100| 26309771|['dance pop', 'po...|66CXWjxzNUsdJxJ2J...|Ariana Grande|1w1kzejjmiMhdWAOe...|       track_28|artist|\n",
      "+-----+-----------------+---------+--------------------+--------------------+-------------+--------------------+---------------+------+\n",
      "only showing top 5 rows\n",
      "\n"
     ]
    }
   ],
   "source": [
    "# Sort the data in descending order by number of followers.\n",
    "spark_df.select('*').sort('followers', ascending=False).show(5)\n"
   ]
  },
  {
   "cell_type": "code",
   "execution_count": 251,
   "metadata": {},
   "outputs": [
    {
     "name": "stdout",
     "output_type": "stream",
     "text": [
      "+------------------+---------+--------------------+------+\n",
      "|popularity_percent|followers|                name|genres|\n",
      "+------------------+---------+--------------------+------+\n",
      "|               0.0|        4|         Adah Sharma|    []|\n",
      "|               0.0|        0|       Kay Kay Menon|    []|\n",
      "|               0.0|       23|      Woody Woodbury|    []|\n",
      "|               0.0|        5|              Caelum|    []|\n",
      "|               0.0|        1|        Chemeca Gant|    []|\n",
      "|               0.0|        8|           Tobi Tobi|    []|\n",
      "|               0.0|        4|Amitabh Bachchan,...|    []|\n",
      "|               0.0|       19|      Shelly Winters|    []|\n",
      "+------------------+---------+--------------------+------+\n",
      "only showing top 8 rows\n",
      "\n",
      "root\n",
      " |-- index: integer (nullable = true)\n",
      " |-- popularity_percent: float (nullable = true)\n",
      " |-- followers: long (nullable = true)\n",
      " |-- genres: string (nullable = true)\n",
      " |-- id: string (nullable = true)\n",
      " |-- name: string (nullable = true)\n",
      " |-- track_id: string (nullable = true)\n",
      " |-- track_name_prev: string (nullable = true)\n",
      " |-- type: string (nullable = true)\n",
      "\n"
     ]
    }
   ],
   "source": [
    "\"\"\"process to change the artist popularity to percent and rename the column\"\"\"\n",
    "from pyspark.sql.functions import udf\n",
    "\n",
    "# user defined function to divide x by 100\n",
    "pop_contest = udf(lambda x: x/100)\n",
    "# apply our udf to the column artist popularity\n",
    "pop_contest_df = spark_df.withColumn('artist_popularity', \n",
    "                            pop_contest(spark_df['artist_popularity']))\n",
    "# Rename the column 'popularity_percent'.\n",
    "pop_contest_df = spark_df.withColumnRenamed('artist_popularity', 'popularity_percent')\n",
    "# change datatype of the percent column from a string to a float\n",
    "pop_contest_df = pop_contest_df.withColumn('popularity_percent', pop_contest_df[\n",
    "    'popularity_percent'].cast('float'))\n",
    "# print the least cool kids to chow our function is working\n",
    "pop_contest_df.select('popularity_percent', 'followers',\n",
    "                      'name', 'genres').sort('popularity_percent').show(8)\n",
    "# print schema to see if it changed to float\n",
    "pop_contest_df.printSchema()"
   ]
  },
  {
   "cell_type": "code",
   "execution_count": 242,
   "metadata": {},
   "outputs": [
    {
     "name": "stdout",
     "output_type": "stream",
     "text": [
      "root\n",
      " |-- index: integer (nullable = true)\n",
      " |-- artist_popularity: long (nullable = true)\n",
      " |-- followers: long (nullable = true)\n",
      " |-- genres: string (nullable = true)\n",
      " |-- id: string (nullable = true)\n",
      " |-- name: string (nullable = true)\n",
      " |-- track_id: string (nullable = true)\n",
      " |-- track_name_prev: string (nullable = true)\n",
      " |-- type: string (nullable = true)\n",
      "\n"
     ]
    }
   ],
   "source": [
    "custom_schema = StructType([\n",
    "    StructField('index', IntegerType()),\n",
    "    StructField('artist_popularity', LongType()),\n",
    "    StructField('followers', LongType()),\n",
    "    StructField('genres', StringType()),\n",
    "    StructField('id', StringType()),\n",
    "    StructField('name', StringType()),\n",
    "    StructField('track_id', StringType()),\n",
    "    StructField('track_name_prev', StringType()),\n",
    "    StructField('type', StringType())])\n",
    "\n",
    "\"\"\"Extract Information\"\"\"\n",
    "spark_df = (spark.read.format(\"csv\"\n",
    "                              ).options(header=\"true\"\n",
    "                                        ).schema(custom_schema\n",
    "                                                 ).load(\"data/spotify_artists.csv\"))\n",
    "spark_df.printSchema()\n",
    "\n",
    "# Save as Parquet\n",
    "\n",
    "# Your /data directory shouldn't be pushed to GitHub, so this file won't show up in the submitted repository.\n"
   ]
  },
  {
   "cell_type": "code",
   "execution_count": 243,
   "metadata": {},
   "outputs": [
    {
     "name": "stdout",
     "output_type": "stream",
     "text": [
      "+-----+-----------------+---------+--------------------+--------------------+--------------------+--------------------+---------------+------+\n",
      "|index|artist_popularity|followers|              genres|                  id|                name|            track_id|track_name_prev|  type|\n",
      "+-----+-----------------+---------+--------------------+--------------------+--------------------+--------------------+---------------+------+\n",
      "|   40|               16|      695|                  []|4SK9OzAA0K00NVsXA...|       Queen Machine|6u3RWvO7ZIIdVci1N...|       track_56|artist|\n",
      "|  901|               43|    18224|           ['strut']|71WL5bNm5jPPpwpDc...|  Bob the Drag Queen|5IsdA6g8IFKGmC1xl...|        track_8|artist|\n",
      "| 1518|               30|     2297|           ['benga']|2FzYw9fn2ZtQ7sZma...|Muthoni Drummer Q...|4F0e4hx3bASeaqLqS...|       track_45|artist|\n",
      "| 2152|               22|     3244|['afropop', 'kwai...|5LFWp4p0pMURif2d7...|Mahlathini & The ...|6WbcheHRcJNMaDIkO...|       track_15|artist|\n",
      "| 4335|                8|       63|                  []|3DpP9gZWRs5dXEhLL...|            Queen Ka|3AM3J6mrm5cRr7GJv...|       track_39|artist|\n",
      "| 6966|               15|      406|['deep disco', 'v...|2wCibR1juwlLNht9Z...|      Queen Samantha|3QDayMeDsnn2Xegzd...|       track_46|artist|\n",
      "| 8056|                7|        9|                  []|3TwePrN8fhPuT29Hz...|        Ghetto Queen|66hIVciq4uVcuwzVr...|       track_36|artist|\n",
      "|11408|               21|      207|                  []|2ddlG5nlorHHTqIt5...|        Beauty Queen|24WguFKVYoGQIW2GO...|       track_33|artist|\n",
      "+-----+-----------------+---------+--------------------+--------------------+--------------------+--------------------+---------------+------+\n",
      "only showing top 8 rows\n",
      "\n"
     ]
    }
   ],
   "source": [
    "# Show only the values in the DataFrame that have 'Queen' in the name.\n",
    "spark_df.select('*').filter(spark_df.name.contains('Queen')).show(8)"
   ]
  },
  {
   "cell_type": "code",
   "execution_count": 247,
   "metadata": {},
   "outputs": [
    {
     "ename": "AnalysisException",
     "evalue": "Cannot resolve column name \"popularity_percent\" among (index, artist_popularity, followers, genres, id, name, track_id, track_name_prev, type)",
     "output_type": "error",
     "traceback": [
      "\u001b[0;31m---------------------------------------------------------------------------\u001b[0m",
      "\u001b[0;31mAnalysisException\u001b[0m                         Traceback (most recent call last)",
      "\u001b[0;32m/tmp/ipykernel_78108/3243601731.py\u001b[0m in \u001b[0;36m<module>\u001b[0;34m\u001b[0m\n\u001b[1;32m      1\u001b[0m spark_df = spark_df.withColumn('popularity_percent', spark_df[\n\u001b[0;32m----> 2\u001b[0;31m     'popularity_percent'].cast('float'))\n\u001b[0m\u001b[1;32m      3\u001b[0m \u001b[0mspark_df\u001b[0m\u001b[0;34m.\u001b[0m\u001b[0mprintSchema\u001b[0m\u001b[0;34m(\u001b[0m\u001b[0;34m)\u001b[0m\u001b[0;34m\u001b[0m\u001b[0;34m\u001b[0m\u001b[0m\n",
      "\u001b[0;32m~/deb/tests/spark_fun/venv/lib/python3.7/site-packages/pyspark/sql/dataframe.py\u001b[0m in \u001b[0;36m__getitem__\u001b[0;34m(self, item)\u001b[0m\n\u001b[1;32m   1618\u001b[0m         \"\"\"\n\u001b[1;32m   1619\u001b[0m         \u001b[0;32mif\u001b[0m \u001b[0misinstance\u001b[0m\u001b[0;34m(\u001b[0m\u001b[0mitem\u001b[0m\u001b[0;34m,\u001b[0m \u001b[0mstr\u001b[0m\u001b[0;34m)\u001b[0m\u001b[0;34m:\u001b[0m\u001b[0;34m\u001b[0m\u001b[0;34m\u001b[0m\u001b[0m\n\u001b[0;32m-> 1620\u001b[0;31m             \u001b[0mjc\u001b[0m \u001b[0;34m=\u001b[0m \u001b[0mself\u001b[0m\u001b[0;34m.\u001b[0m\u001b[0m_jdf\u001b[0m\u001b[0;34m.\u001b[0m\u001b[0mapply\u001b[0m\u001b[0;34m(\u001b[0m\u001b[0mitem\u001b[0m\u001b[0;34m)\u001b[0m\u001b[0;34m\u001b[0m\u001b[0;34m\u001b[0m\u001b[0m\n\u001b[0m\u001b[1;32m   1621\u001b[0m             \u001b[0;32mreturn\u001b[0m \u001b[0mColumn\u001b[0m\u001b[0;34m(\u001b[0m\u001b[0mjc\u001b[0m\u001b[0;34m)\u001b[0m\u001b[0;34m\u001b[0m\u001b[0;34m\u001b[0m\u001b[0m\n\u001b[1;32m   1622\u001b[0m         \u001b[0;32melif\u001b[0m \u001b[0misinstance\u001b[0m\u001b[0;34m(\u001b[0m\u001b[0mitem\u001b[0m\u001b[0;34m,\u001b[0m \u001b[0mColumn\u001b[0m\u001b[0;34m)\u001b[0m\u001b[0;34m:\u001b[0m\u001b[0;34m\u001b[0m\u001b[0;34m\u001b[0m\u001b[0m\n",
      "\u001b[0;32m~/deb/tests/spark_fun/venv/lib/python3.7/site-packages/py4j/java_gateway.py\u001b[0m in \u001b[0;36m__call__\u001b[0;34m(self, *args)\u001b[0m\n\u001b[1;32m   1303\u001b[0m         \u001b[0manswer\u001b[0m \u001b[0;34m=\u001b[0m \u001b[0mself\u001b[0m\u001b[0;34m.\u001b[0m\u001b[0mgateway_client\u001b[0m\u001b[0;34m.\u001b[0m\u001b[0msend_command\u001b[0m\u001b[0;34m(\u001b[0m\u001b[0mcommand\u001b[0m\u001b[0;34m)\u001b[0m\u001b[0;34m\u001b[0m\u001b[0;34m\u001b[0m\u001b[0m\n\u001b[1;32m   1304\u001b[0m         return_value = get_return_value(\n\u001b[0;32m-> 1305\u001b[0;31m             answer, self.gateway_client, self.target_id, self.name)\n\u001b[0m\u001b[1;32m   1306\u001b[0m \u001b[0;34m\u001b[0m\u001b[0m\n\u001b[1;32m   1307\u001b[0m         \u001b[0;32mfor\u001b[0m \u001b[0mtemp_arg\u001b[0m \u001b[0;32min\u001b[0m \u001b[0mtemp_args\u001b[0m\u001b[0;34m:\u001b[0m\u001b[0;34m\u001b[0m\u001b[0;34m\u001b[0m\u001b[0m\n",
      "\u001b[0;32m~/deb/tests/spark_fun/venv/lib/python3.7/site-packages/pyspark/sql/utils.py\u001b[0m in \u001b[0;36mdeco\u001b[0;34m(*a, **kw)\u001b[0m\n\u001b[1;32m    115\u001b[0m                 \u001b[0;31m# Hide where the exception came from that shows a non-Pythonic\u001b[0m\u001b[0;34m\u001b[0m\u001b[0;34m\u001b[0m\u001b[0;34m\u001b[0m\u001b[0m\n\u001b[1;32m    116\u001b[0m                 \u001b[0;31m# JVM exception message.\u001b[0m\u001b[0;34m\u001b[0m\u001b[0;34m\u001b[0m\u001b[0;34m\u001b[0m\u001b[0m\n\u001b[0;32m--> 117\u001b[0;31m                 \u001b[0;32mraise\u001b[0m \u001b[0mconverted\u001b[0m \u001b[0;32mfrom\u001b[0m \u001b[0;32mNone\u001b[0m\u001b[0;34m\u001b[0m\u001b[0;34m\u001b[0m\u001b[0m\n\u001b[0m\u001b[1;32m    118\u001b[0m             \u001b[0;32melse\u001b[0m\u001b[0;34m:\u001b[0m\u001b[0;34m\u001b[0m\u001b[0;34m\u001b[0m\u001b[0m\n\u001b[1;32m    119\u001b[0m                 \u001b[0;32mraise\u001b[0m\u001b[0;34m\u001b[0m\u001b[0;34m\u001b[0m\u001b[0m\n",
      "\u001b[0;31mAnalysisException\u001b[0m: Cannot resolve column name \"popularity_percent\" among (index, artist_popularity, followers, genres, id, name, track_id, track_name_prev, type)"
     ]
    }
   ],
   "source": [
    "spark_df = spark_df.withColumn('popularity_percent', spark_df[\n",
    "    'popularity_percent'].cast('float'))\n",
    "spark_df.printSchema()\n"
   ]
  },
  {
   "cell_type": "code",
   "execution_count": 248,
   "metadata": {},
   "outputs": [
    {
     "name": "stdout",
     "output_type": "stream",
     "text": [
      "root\n",
      " |-- index: integer (nullable = true)\n",
      " |-- artist_popularity: float (nullable = true)\n",
      " |-- followers: long (nullable = true)\n",
      " |-- genres: string (nullable = true)\n",
      " |-- id: string (nullable = true)\n",
      " |-- name: string (nullable = true)\n",
      " |-- track_id: string (nullable = true)\n",
      " |-- track_name_prev: string (nullable = true)\n",
      " |-- type: string (nullable = true)\n",
      "\n",
      "+-----------------+----------------------+\n",
      "|artist_popularity|sum(artist_popularity)|\n",
      "+-----------------+----------------------+\n",
      "|             18.0|               16020.0|\n",
      "|             64.0|               20928.0|\n",
      "|             82.0|                1886.0|\n",
      "|             47.0|               46765.0|\n",
      "|              9.0|                5292.0|\n",
      "|             58.0|               27550.0|\n",
      "|             39.0|               47034.0|\n",
      "|              5.0|                2285.0|\n",
      "+-----------------+----------------------+\n",
      "only showing top 8 rows\n",
      "\n"
     ]
    }
   ],
   "source": [
    "# Group the data by artist popularity, and show the count for each group.\n",
    "spark_df = spark_df.withColumn('artist_popularity', spark_df[\n",
    "    'artist_popularity'].cast('float'))\n",
    "spark_df.printSchema()\n",
    "\n",
    "spark_df.groupBy('artist_popularity').sum('artist_popularity').show(8)"
   ]
  },
  {
   "cell_type": "code",
   "execution_count": 232,
   "metadata": {},
   "outputs": [
    {
     "name": "stderr",
     "output_type": "stream",
     "text": [
      "                                                                                \r"
     ]
    }
   ],
   "source": [
    "# Save as Parquet\n",
    "spark_df.write.parquet('data/spotify.parquet')\n",
    "# Lastly, write the code to save the DataFrame as a Parquet file in the /data directory.\n"
   ]
  }
 ],
 "metadata": {
  "kernelspec": {
   "display_name": "Python 3.7.13 ('venv': venv)",
   "language": "python",
   "name": "python3"
  },
  "language_info": {
   "codemirror_mode": {
    "name": "ipython",
    "version": 3
   },
   "file_extension": ".py",
   "mimetype": "text/x-python",
   "name": "python",
   "nbconvert_exporter": "python",
   "pygments_lexer": "ipython3",
   "version": "3.7.13"
  },
  "orig_nbformat": 4,
  "vscode": {
   "interpreter": {
    "hash": "a8793d36fc6f82970c1c1d8f760fcf31a9b83e2b77c85ced74640d867ec7076d"
   }
  }
 },
 "nbformat": 4,
 "nbformat_minor": 2
}
